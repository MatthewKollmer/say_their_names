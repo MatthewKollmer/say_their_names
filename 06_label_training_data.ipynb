{
 "cells": [
  {
   "metadata": {},
   "cell_type": "markdown",
   "source": [
    "# Collaborative Data Labelling\n",
    "\n",
    "## Overview\n",
    "\n",
    "At this step, I needed to label my random sample so it could be used to fine-tune BERT to classify the rest of my data. In other words, I had to prepare my training data.\n",
    "\n",
    "I was fortunate to have help in this regard since labelling data can take some time. To divvy up the task efficiently, I took the ten chunks of my training data–100 newspaper clippings apiece–and uploaded them to Github. Then I created 10 nearly identical Google Colab notebooks, one for each chunk. The only differences between these notebooks were the .csv files they reviewed and the filenames they saved.\n",
    "\n",
    "Here's the code and text as it appeared in these notebooks:"
   ],
   "id": "2d2d21607e724804"
  },
  {
   "metadata": {},
   "cell_type": "code",
   "outputs": [],
   "execution_count": null,
   "source": [
    "import pandas as pd\n",
    "from google.colab import files\n",
    "import textwrap"
   ],
   "id": "3b5be3a526c54233"
  },
  {
   "metadata": {},
   "cell_type": "markdown",
   "source": [
    "## 1) Directions\n",
    "\n",
    "When you run the code in the following notebook, you will be prompted to label newspaper clippings. The goal is to identify if the clippings contain any reference to lynchings. The labelled data will then be used to fine-tune a BERT model to classify other clippings.\n",
    "\n",
    "Please label the data in the following way:\n",
    "\n",
    "- '__yes__' = yes, the clipping is entirely about a lynching\n",
    "- '__no__' = no, the clipping has nothing to do with lynchings\n",
    "- '__partial__' = part of the clipping is about a lynching, but not all of it\n",
    "- '__unknown__' = the clipping is in a language I can't read or the OCR is so bad it's hard to tell\n",
    "\n",
    "Once you've finished labelling the data, run the last bit of code to save your work as a .csv file. Then please email this .csv file to Matthew Kollmer at kollmer2@illinois.edu.\n",
    "\n",
    "Thank you for your help!"
   ],
   "id": "b204a8bc7ac3ad81"
  },
  {
   "metadata": {},
   "cell_type": "code",
   "outputs": [],
   "execution_count": null,
   "source": [
    "# df was linked to different .csv files, one per chunk (i.e. part_1, part_2, part_3, etc.)\n",
    "df = pd.read_csv('https://raw.githubusercontent.com/MatthewKollmer/messing-around/refs/heads/main/vrt_work/say_their_names/training_data/clippings_part_1.csv')\n",
    "\n",
    "case_match_values = []\n",
    "\n",
    "for index, clipping in df['clippings'].items():\n",
    "    print('---------------------------------------')\n",
    "    print('---------------------------------------')\n",
    "    print('---------------------------------------')\n",
    "    wrapped_clipping = '\\n'.join(textwrap.wrap(str(clipping), width=60))\n",
    "    print(wrapped_clipping)\n",
    "    print()\n",
    "    case_match = input(f'Does the clipping contain text about a lynching? Answers must be yes, partial, no, or unknown: ')\n",
    "    case_match_values.append(case_match)\n",
    "\n",
    "df['case_match'] = case_match_values"
   ],
   "id": "a7cec1e4728d0b7e"
  },
  {
   "metadata": {},
   "cell_type": "markdown",
   "source": [
    "## 2) Save and Finish\n",
    "\n",
    "Once you've finished labelling the set of 100 clippings, run the last bit of code below. It will save the labelled data as a .csv file.\n",
    "\n",
    "Last thing: please email this file to Matthew. Thanks again!"
   ],
   "id": "330f3ab04c29ba79"
  },
  {
   "metadata": {},
   "cell_type": "code",
   "outputs": [],
   "execution_count": null,
   "source": [
    "# changed depending on which chunk was labelled (i.e. part_1, part_2, part_3, etc.)\n",
    "df.to_csv('clippings_part_1_labelled.csv', index=False)\n",
    "files.download('clippings_part_1_labelled.csv')"
   ],
   "id": "3d733513342c1dc8"
  }
 ],
 "metadata": {
  "kernelspec": {
   "display_name": "Python 3",
   "language": "python",
   "name": "python3"
  },
  "language_info": {
   "codemirror_mode": {
    "name": "ipython",
    "version": 2
   },
   "file_extension": ".py",
   "mimetype": "text/x-python",
   "name": "python",
   "nbconvert_exporter": "python",
   "pygments_lexer": "ipython2",
   "version": "2.7.6"
  }
 },
 "nbformat": 4,
 "nbformat_minor": 5
}
